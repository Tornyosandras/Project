{
 "cells": [
  {
   "cell_type": "code",
   "execution_count": null,
   "id": "5f918f9a",
   "metadata": {},
   "outputs": [],
   "source": [
    "import boto3\n",
    "import json\n",
    "from typing import Any\n",
    "\n",
    "def read_json_from_s3(bucket: str, key: str) -> Any:\n",
    "    \"\"\"\n",
    "    Reads a JSON file from an S3 bucket and returns its content as a Python object.\n",
    "\n",
    "    Args:\n",
    "        bucket (str): The name of the S3 bucket.\n",
    "        key (str): The key (path) of the JSON file in the S3 bucket.\n",
    "\n",
    "    Returns:\n",
    "        Any: The content of the JSON file as a Python object.\n",
    "    \"\"\"\n",
    "    s3 = boto3.client('s3')\n",
    "    response = s3.get_object(Bucket=bucket, Key=key)\n",
    "    content = response[\"Body\"]\n",
    "    return json.loads(content.read())"
   ]
  },
  {
   "cell_type": "code",
   "execution_count": null,
   "id": "7ad5ed13",
   "metadata": {},
   "outputs": [],
   "source": []
  }
 ],
 "metadata": {
  "language_info": {
   "name": "python"
  }
 },
 "nbformat": 4,
 "nbformat_minor": 5
}
