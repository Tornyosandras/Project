{
 "cells": [
  {
   "cell_type": "code",
   "execution_count": 3,
   "id": "8442f6b6",
   "metadata": {},
   "outputs": [],
   "source": [
    "import json"
   ]
  },
  {
   "cell_type": "code",
   "execution_count": 4,
   "id": "64f7f886",
   "metadata": {},
   "outputs": [
    {
     "name": "stderr",
     "output_type": "stream",
     "text": [
      "<>:1: SyntaxWarning: invalid escape sequence '\\D'\n",
      "<>:1: SyntaxWarning: invalid escape sequence '\\D'\n",
      "C:\\Users\\Andas\\AppData\\Local\\Temp\\ipykernel_23120\\2490853901.py:1: SyntaxWarning: invalid escape sequence '\\D'\n",
      "  file_path = \"C:\\Data engineer\\Cubix_VS_Tornyos_Andras\\json_handling\\spotify_playlist.json\"\n"
     ]
    }
   ],
   "source": [
    "file_path = \"C:\\Data engineer\\Cubix_VS_Tornyos_Andras\\json_handling\\spotify_playlist.json\"\n",
    "\n",
    "with open(file_path, \"r\") as json_file:\n",
    "    data = json.load(json_file)"
   ]
  },
  {
   "cell_type": "code",
   "execution_count": 10,
   "id": "c78512db",
   "metadata": {},
   "outputs": [
    {
     "name": "stdout",
     "output_type": "stream",
     "text": [
      "['Taylor Swift']\n"
     ]
    }
   ],
   "source": [
    "artists = [artist['name'] for artist in data['contents']['items'][30]['artists']]\n",
    "print(artists)"
   ]
  },
  {
   "cell_type": "code",
   "execution_count": 11,
   "id": "f8ea0d94",
   "metadata": {},
   "outputs": [
    {
     "name": "stdout",
     "output_type": "stream",
     "text": [
      "16650482636\n"
     ]
    }
   ],
   "source": [
    "total_playcount = sum(track['playCount'] for track in items)\n",
    "print(total_playcount)"
   ]
  },
  {
   "cell_type": "code",
   "execution_count": 13,
   "id": "a61ec816",
   "metadata": {},
   "outputs": [
    {
     "name": "stdout",
     "output_type": "stream",
     "text": [
      "The lowest playcount is Si No Estás.\n"
     ]
    }
   ],
   "source": [
    "lowest_playcount_track = min(items, key=lambda track: track['playCount'])\n",
    "print(f\"The lowest playcount is {lowest_playcount_track['name']}.\")"
   ]
  }
 ],
 "metadata": {
  "kernelspec": {
   "display_name": "base",
   "language": "python",
   "name": "python3"
  },
  "language_info": {
   "codemirror_mode": {
    "name": "ipython",
    "version": 3
   },
   "file_extension": ".py",
   "mimetype": "text/x-python",
   "name": "python",
   "nbconvert_exporter": "python",
   "pygments_lexer": "ipython3",
   "version": "3.12.7"
  }
 },
 "nbformat": 4,
 "nbformat_minor": 5
}
