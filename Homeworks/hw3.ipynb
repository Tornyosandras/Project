{
 "cells": [
  {
   "cell_type": "markdown",
   "id": "e9269007",
   "metadata": {},
   "source": [
    "-- Task 1: Which 10 companies make the most money? Use two columns: Company name and the sum of the fare. Order by descending order."
   ]
  },
  {
   "cell_type": "code",
   "execution_count": null,
   "id": "4a0eb45a",
   "metadata": {
    "vscode": {
     "languageId": "json"
    }
   },
   "outputs": [],
   "source": [
    "SELECT \n",
    "    c.company_name,\n",
    "    ROUND(SUM(t.fare), 2) AS total_fare\n",
    "FROM \n",
    "    taxi_trips t\n",
    "JOIN \n",
    "    company c ON t.company_id = c.company_id\n",
    "GROUP BY \n",
    "    c.company_name\n",
    "ORDER BY \n",
    "    total_fare DESC\n",
    "LIMIT 10;"
   ]
  },
  {
   "cell_type": "markdown",
   "id": "6d06d1c7",
   "metadata": {},
   "source": [
    "-- Task 2: Show the 10 pickup community areas with the most rides. Use two columns: community area name and count of rides per area, in descending order for the rides."
   ]
  },
  {
   "cell_type": "code",
   "execution_count": null,
   "id": "687cec32",
   "metadata": {},
   "outputs": [],
   "source": [
    "-- Task 2: Show the 10 pickup community areas with the most rides. Use two columns: community area name and count of rides per area, in descending order for the rides.\n",
    "SELECT \n",
    "    ca.community_area_name,\n",
    "    COUNT(*) AS ride_count\n",
    "FROM \n",
    "    taxi_trips t\n",
    "JOIN \n",
    "    community_areas ca ON t.pickup_community_area = ca.community_area_id\n",
    "GROUP BY \n",
    "    ca.community_area_name\n",
    "ORDER BY \n",
    "    ride_count DESC\n",
    "LIMIT 10;\n"
   ]
  },
  {
   "cell_type": "markdown",
   "id": "3593f2d9",
   "metadata": {},
   "source": [
    "-- Task 3: Get the count of taxi rides per day of week. Use the names of the days instead of numbers (Monday = 1, Tuesday = 2, etc.)."
   ]
  },
  {
   "cell_type": "code",
   "execution_count": null,
   "id": "ac59bd13",
   "metadata": {},
   "outputs": [],
   "source": [
    "\n",
    "SELECT \n",
    "    CASE EXTRACT(DOW FROM t.trip_start_timestamp)\n",
    "        WHEN 0 THEN 'Sunday'\n",
    "        WHEN 1 THEN 'Monday'\n",
    "        WHEN 2 THEN 'Tuesday'\n",
    "        WHEN 3 THEN 'Wednesday'\n",
    "        WHEN 4 THEN 'Thursday'\n",
    "        WHEN 5 THEN 'Friday'\n",
    "        WHEN 6 THEN 'Saturday'\n",
    "    END AS day_name,\n",
    "    COUNT(*) AS ride_count\n",
    "FROM \n",
    "    taxi_trips t\n",
    "GROUP BY \n",
    "    day_name\n",
    "ORDER BY \n",
    "    CASE day_name\n",
    "        WHEN 'Monday' THEN 1\n",
    "        WHEN 'Tuesday' THEN 2\n",
    "        WHEN 'Wednesday' THEN 3\n",
    "        WHEN 'Thursday' THEN 4\n",
    "        WHEN 'Friday' THEN 5\n",
    "        WHEN 'Saturday' THEN 6\n",
    "        WHEN 'Sunday' THEN 7\n",
    "    END;"
   ]
  }
 ],
 "metadata": {
  "language_info": {
   "name": "python"
  }
 },
 "nbformat": 4,
 "nbformat_minor": 5
}
