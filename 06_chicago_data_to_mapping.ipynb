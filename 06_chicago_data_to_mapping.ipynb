{
 "cells": [
  {
   "cell_type": "code",
   "execution_count": null,
   "metadata": {},
   "outputs": [],
   "source": [
    "import pandas as pd\n",
    "import os\n",
    "import requests\n",
    "from datetime import datetime\n",
    "from dateutil.relativedelta import relativedelta\n",
    "pd.set_option(\"display.max_columns\", 30)"
   ]
  },
  {
   "cell_type": "code",
   "execution_count": null,
   "metadata": {},
   "outputs": [],
   "source": [
    "current_datetime = datetime.now() - relativedelta(months=2)\n",
    "formatted_datetime = current_datetime.strftime(\"%Y-%m-%d\")\n",
    "url = (\n",
    "    f\"https://data.cityofchicago.org/resource/ajtu-isnz.json?\"\n",
    "    f\"$where=trip_start_timestamp >= '{formatted_datetime}T00:00:00' \"\n",
    "    f\"AND trip_start_timestamp <= '{formatted_datetime}T23:59:59'&$limit=30000\"\n",
    ")\n",
    "response = requests.get(url)\n",
    "data = response.json()\n"
   ]
  },
  {
   "cell_type": "code",
   "execution_count": null,
   "metadata": {},
   "outputs": [],
   "source": [
    "data"
   ]
  },
  {
   "cell_type": "code",
   "execution_count": null,
   "metadata": {},
   "outputs": [],
   "source": [
    "taxi_trips = pd.DataFrame(data)"
   ]
  },
  {
   "cell_type": "code",
   "execution_count": null,
   "metadata": {},
   "outputs": [],
   "source": [
    "taxi_trips"
   ]
  },
  {
   "cell_type": "code",
   "execution_count": null,
   "metadata": {},
   "outputs": [],
   "source": [
    "taxi_trips.info()"
   ]
  },
  {
   "cell_type": "code",
   "execution_count": null,
   "metadata": {},
   "outputs": [],
   "source": [
    "taxi_trips.describe()"
   ]
  },
  {
   "cell_type": "markdown",
   "metadata": {},
   "source": [
    "## Transformation: Deal with NaN values"
   ]
  },
  {
   "cell_type": "code",
   "execution_count": null,
   "metadata": {},
   "outputs": [],
   "source": [
    "taxi_trips.drop([\"pickup_census_tract\", \"dropoff_census_tract\"], axis=1, inplace=True)\n",
    "taxi_trips.drop([\"pickup_centroid_location\", \"dropoff_centroid_location\"], axis=1, inplace=True)\n",
    "\n",
    "taxi_trips.dropna(inplace=True)\n"
   ]
  },
  {
   "cell_type": "markdown",
   "metadata": {},
   "source": [
    "### Transformation: Renaming"
   ]
  },
  {
   "cell_type": "code",
   "execution_count": null,
   "metadata": {},
   "outputs": [],
   "source": [
    "taxi_trips.rename(columns={\"pickup_community_area\": \"pickup_community_area_id\", \n",
    "                           \"dropoff_community_area\": \n",
    "                           \"dropoff_community_area_id\"},\n",
    "                  inplace=True)\n"
   ]
  },
  {
   "cell_type": "code",
   "execution_count": null,
   "metadata": {},
   "outputs": [],
   "source": []
  },
  {
   "cell_type": "markdown",
   "metadata": {},
   "source": [
    "### Transformation: create helper for the weather table"
   ]
  },
  {
   "cell_type": "code",
   "execution_count": null,
   "metadata": {},
   "outputs": [],
   "source": [
    "taxi_trips[\"trip_start_timestamp\"] = pd.to_datetime(taxi_trips[\"trip_start_timestamp\"])\n",
    "taxi_trips[\"datetime_for_weather\"] = taxi_trips[\"trip_start_timestamp\"].dt.floor(\"h\")\n"
   ]
  },
  {
   "cell_type": "markdown",
   "metadata": {},
   "source": [
    "### Check joining the trips and the weather data "
   ]
  },
  {
   "cell_type": "code",
   "execution_count": null,
   "metadata": {},
   "outputs": [],
   "source": [
    "## Get the weather data, and create a dataframe out of it.\n",
    "\n",
    "#extract part\n",
    "\n",
    "current_datetime = datetime.now() - relativedelta(months=2)\n",
    "formatted_datetime = current_datetime.strftime(\"%Y-%m-%d\")\n",
    "\n",
    "url = \"https://archive-api.open-meteo.com/v1/era5\"\n",
    "\n",
    "params = {\n",
    "    \"latitude\": 41.85,\n",
    "    \"longitude\": -87.65,\n",
    "    \"start_date\": formatted_datetime,\n",
    "    \"end_date\": formatted_datetime,\n",
    "    \"hourly\": \"temperature_2m,wind_speed_10m,rain,precipitation\"\n",
    "}\n",
    "response = requests.get(url, params=params)\n",
    "\n",
    "weather_data = response.json()\n",
    "\n",
    "#Transform part\n",
    "weather_data_filtered = {\n",
    "    \"datetime\": weather_data[\"hourly\"][\"time\"],\n",
    "    \"tempretaure\": weather_data[\"hourly\"][\"temperature_2m\"],\n",
    "    \"wind_speed\": weather_data[\"hourly\"][\"wind_speed_10m\"],\n",
    "    \"rain\": weather_data[\"hourly\"][\"rain\"],\n",
    "    \"precipitation\": weather_data[\"hourly\"][\"precipitation\"],\n",
    "} \n",
    "\n",
    "weather_df = pd.DataFrame(weather_data_filtered)\n",
    "weather_df[\"datetime\"] = pd.to_datetime(weather_df[\"datetime\"])\n",
    "weather_df.head()\n"
   ]
  },
  {
   "cell_type": "code",
   "execution_count": null,
   "metadata": {},
   "outputs": [],
   "source": [
    "taxi_trips_with_weathers = taxi_trips.merge(weather_df, left_on =\"datetime_for_weather\", right_on = \"datetime\")"
   ]
  },
  {
   "cell_type": "code",
   "execution_count": null,
   "metadata": {},
   "outputs": [],
   "source": [
    "taxi_trips_with_weathers.head()"
   ]
  },
  {
   "cell_type": "markdown",
   "metadata": {},
   "source": [
    "### Transformation: Datatype conversions"
   ]
  },
  {
   "cell_type": "code",
   "execution_count": null,
   "metadata": {},
   "outputs": [],
   "source": [
    "data_types = {\n",
    "    \"trip_end_timestamp\": \"datetime64[ns]\",\n",
    "    \"trip_seconds\": \"int32\",\n",
    "    \"trip_miles\": \"float\",\n",
    "    \"pickup_community_area_id\": \"int8\",\n",
    "    \"dropoff_community_area_id\": \"int8\",\n",
    "    \"fare\": \"float\",\n",
    "    \"tips\": \"float\",\n",
    "    \"tolls\": \"float\",\n",
    "    \"extras\": \"float\",\n",
    "    \"trip_total\": \"float\",\n",
    "}\n",
    "taxi_trips = taxi_trips.astype(data_types)\n"
   ]
  },
  {
   "cell_type": "code",
   "execution_count": null,
   "metadata": {},
   "outputs": [],
   "source": [
    "taxi_trips.describe()"
   ]
  },
  {
   "cell_type": "markdown",
   "metadata": {},
   "source": [
    "##### Memory usage"
   ]
  },
  {
   "cell_type": "code",
   "execution_count": null,
   "metadata": {},
   "outputs": [],
   "source": [
    "## Raw: 18.452.347\n",
    "## Dtype optimalized: 11.139.659\n",
    "taxi_trips.memory_usage(deep=True).sum()"
   ]
  },
  {
   "cell_type": "markdown",
   "metadata": {},
   "source": [
    "#### Sanity checks"
   ]
  },
  {
   "cell_type": "code",
   "execution_count": null,
   "metadata": {},
   "outputs": [],
   "source": [
    "taxi_trips[taxi_trips['trip_end_timestamp'] == taxi_trips['trip_end_timestamp'].max()]\n"
   ]
  },
  {
   "cell_type": "code",
   "execution_count": null,
   "metadata": {},
   "outputs": [],
   "source": [
    "taxi_trips[taxi_trips['trip_seconds'] == taxi_trips['trip_seconds'].max()]"
   ]
  },
  {
   "cell_type": "code",
   "execution_count": null,
   "metadata": {},
   "outputs": [],
   "source": [
    "taxi_trips[taxi_trips['fare'] == taxi_trips['fare'].max()]"
   ]
  },
  {
   "cell_type": "code",
   "execution_count": null,
   "metadata": {},
   "outputs": [],
   "source": [
    "taxi_trips.nlargest(10, \"fare\")"
   ]
  },
  {
   "cell_type": "code",
   "execution_count": null,
   "metadata": {},
   "outputs": [],
   "source": [
    "#for i in range(1, len(payment_type_master) + 1):\n",
    "#    print(i)"
   ]
  },
  {
   "cell_type": "code",
   "execution_count": null,
   "metadata": {},
   "outputs": [],
   "source": [
    "payment_type_master = taxi_trips[\"payment_type\"].drop_duplicates().reset_index(drop=True)\n",
    "payment_type_master = pd.DataFrame(\n",
    "    {\n",
    "        \"payment_type_id\": range(1, len(payment_type_master) + 1),\n",
    "        \"payment_type\": payment_type_master\n",
    "        \n",
    "    }\n",
    "    \n",
    ")\n",
    "\n",
    "payment_type_master"
   ]
  },
  {
   "cell_type": "code",
   "execution_count": null,
   "metadata": {},
   "outputs": [],
   "source": [
    "company_master = taxi_trips[\"company\"].drop_duplicates().reset_index(drop=True)\n",
    "company_master = pd.DataFrame(\n",
    "    {\n",
    "        \"company_id\": range(1, len(company_master) + 1),\n",
    "        \"company\": company_master\n",
    "        \n",
    "    }\n",
    "    \n",
    ")\n",
    "\n",
    "company_master"
   ]
  },
  {
   "cell_type": "code",
   "execution_count": null,
   "metadata": {},
   "outputs": [],
   "source": [
    "taxi_trips[[\"payment_type\",\"company\"]]"
   ]
  },
  {
   "cell_type": "code",
   "execution_count": null,
   "metadata": {},
   "outputs": [],
   "source": [
    "taxi_trips_id = taxi_trips.merge(payment_type_master, on = \"payment_type\")\n",
    "taxi_trips_id = taxi_trips_id.merge(company_master, on = \"company\")"
   ]
  },
  {
   "cell_type": "code",
   "execution_count": null,
   "metadata": {},
   "outputs": [],
   "source": [
    "taxi_trips_id.drop([\"payment_type\",\"company\"], axis = 1, inplace = True)"
   ]
  },
  {
   "cell_type": "code",
   "execution_count": null,
   "metadata": {},
   "outputs": [],
   "source": [
    "taxi_trips_id.sample(5)"
   ]
  },
  {
   "cell_type": "code",
   "execution_count": null,
   "metadata": {},
   "outputs": [],
   "source": [
    "## Raw: 18.452.347\n",
    "## Dtype optimalized: 11.139.659\n",
    "print(taxi_trips.memory_usage(deep=True).sum())\n",
    "print(taxi_trips_id.memory_usage(deep=True).sum())"
   ]
  },
  {
   "cell_type": "code",
   "execution_count": null,
   "metadata": {},
   "outputs": [],
   "source": [
    "#payment_type_master.to_csv(\"payment_master_type.csv\", index = False)\n",
    "#company_master.to_csv(\"company_master.csv\", index = False)"
   ]
  },
  {
   "cell_type": "markdown",
   "metadata": {},
   "source": [
    "### check the modelling"
   ]
  },
  {
   "cell_type": "markdown",
   "metadata": {},
   "source": [
    "#### payment type"
   ]
  },
  {
   "cell_type": "code",
   "execution_count": null,
   "metadata": {},
   "outputs": [],
   "source": [
    "payment_type_master = taxi_trips[\"payment_type\"].drop_duplicates().reset_index(drop=True)\n",
    "payment_type_master = pd.DataFrame(\n",
    "    {\n",
    "        \"payment_type_id\": range(1, len(payment_type_master) + 1),\n",
    "        \"payment_type\": payment_type_master\n",
    "        \n",
    "    }\n",
    "    \n",
    ")\n",
    "\n",
    "payment_type_master"
   ]
  },
  {
   "cell_type": "code",
   "execution_count": null,
   "metadata": {},
   "outputs": [],
   "source": [
    "new_payment_type_data = [\n",
    "{\"payment_type\": \"Credit Card\"},\n",
    "{\"payment_type\": \"x\"},\n",
    "{\"payment_type\": \"y\"}\n",
    "]\n",
    "\n",
    "new_payment_type_mapping = pd.DataFrame(new_payment_type_data)\n",
    "\n",
    "new_payment_type_mapping"
   ]
  },
  {
   "cell_type": "code",
   "execution_count": null,
   "metadata": {},
   "outputs": [],
   "source": [
    "payment_type_max_id_value = payment_type_master[\"payment_type_id\"].max()"
   ]
  },
  {
   "cell_type": "code",
   "execution_count": null,
   "metadata": {},
   "outputs": [],
   "source": [
    "range(payment_type_max_id_value + 1,payment_type_max_id_value + len(new_payment_type_mapping) + 1)"
   ]
  },
  {
   "cell_type": "code",
   "execution_count": null,
   "metadata": {},
   "outputs": [],
   "source": [
    "new_payment_type_mapping[\"payment_type_id\"] = range(payment_type_max_id_value + 1,payment_type_max_id_value + len(new_payment_type_mapping) + 1)"
   ]
  },
  {
   "cell_type": "code",
   "execution_count": null,
   "metadata": {},
   "outputs": [],
   "source": [
    "new_payment_type_mapping"
   ]
  },
  {
   "cell_type": "code",
   "execution_count": null,
   "metadata": {},
   "outputs": [],
   "source": [
    "new_payment_types = new_payment_type_mapping[~new_payment_type_mapping[\"payment_type_id\"].isin(payment_type_master[\"payment_type\"])]"
   ]
  },
  {
   "cell_type": "code",
   "execution_count": null,
   "metadata": {},
   "outputs": [],
   "source": [
    "if not new_payment_types.empty:\n",
    "    payment_type_master = pd.concat([payment_type_master, new_payment_types], ignore_index = True)"
   ]
  },
  {
   "cell_type": "code",
   "execution_count": null,
   "metadata": {},
   "outputs": [],
   "source": [
    "print(payment_type_master)"
   ]
  },
  {
   "cell_type": "markdown",
   "metadata": {},
   "source": [
    "#### company"
   ]
  },
  {
   "cell_type": "code",
   "execution_count": null,
   "metadata": {},
   "outputs": [],
   "source": [
    "company_master = taxi_trips[\"company\"].drop_duplicates().reset_index(drop=True)\n",
    "company_master = pd.DataFrame(\n",
    "    {\n",
    "        \"company_id\": range(1, len(company_master) + 1),\n",
    "        \"company\": company_master\n",
    "        \n",
    "    }\n",
    "    \n",
    ")\n",
    "\n",
    "company_master"
   ]
  },
  {
   "cell_type": "code",
   "execution_count": null,
   "metadata": {},
   "outputs": [],
   "source": [
    "new_company_data = [\n",
    "{\"company\": \"3556 - 36214 RC Andrews Cab\"},\n",
    "{\"company\": \"x\"},\n",
    "{\"company\": \"y\"}\n",
    "]\n",
    "\n",
    "new_company_mapping = pd.DataFrame(new_company_data)\n",
    "\n",
    "new_company_mapping"
   ]
  },
  {
   "cell_type": "code",
   "execution_count": null,
   "metadata": {},
   "outputs": [],
   "source": [
    "company_max_id_value = company_master[\"company_id\"].max()"
   ]
  },
  {
   "cell_type": "code",
   "execution_count": null,
   "metadata": {},
   "outputs": [],
   "source": [
    "new_company_mapping[\"company_id\"] = range(company_max_id_value + 1,company_max_id_value + len(new_company_mapping) + 1)\n",
    "new_company_mapping"
   ]
  },
  {
   "cell_type": "code",
   "execution_count": null,
   "metadata": {},
   "outputs": [],
   "source": [
    "new_company = new_company_mapping[~new_company_mapping[\"company_id\"].isin(company_master[\"company\"])]"
   ]
  },
  {
   "cell_type": "code",
   "execution_count": null,
   "metadata": {},
   "outputs": [],
   "source": [
    "if not new_company.empty:\n",
    "    company_master = pd.concat([company_master, new_company], ignore_index = True)"
   ]
  },
  {
   "cell_type": "code",
   "execution_count": null,
   "metadata": {},
   "outputs": [],
   "source": [
    "company_master"
   ]
  },
  {
   "cell_type": "code",
   "execution_count": null,
   "metadata": {},
   "outputs": [],
   "source": []
  }
 ],
 "metadata": {
  "kernelspec": {
   "display_name": "base",
   "language": "python",
   "name": "python3"
  },
  "language_info": {
   "codemirror_mode": {
    "name": "ipython",
    "version": 3
   },
   "file_extension": ".py",
   "mimetype": "text/x-python",
   "name": "python",
   "nbconvert_exporter": "python",
   "pygments_lexer": "ipython3",
   "version": "3.12.7"
  }
 },
 "nbformat": 4,
 "nbformat_minor": 2
}
