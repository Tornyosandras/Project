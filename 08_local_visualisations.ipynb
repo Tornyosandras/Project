{
 "cells": [
  {
   "cell_type": "code",
   "execution_count": 1,
   "metadata": {},
   "outputs": [],
   "source": [
    "from io import StringIO\n",
    "import os\n",
    "\n",
    "import boto3\n",
    "import matplotlib.pyplot as plt\n",
    "import pandas as pd\n",
    "import seaborn as sns\n",
    "\n",
    "pd.set_option(\"display.max_columns\", 50)"
   ]
  },
  {
   "cell_type": "code",
   "execution_count": 2,
   "metadata": {},
   "outputs": [],
   "source": [
    "aws_acces_key_id = os.getenv(\"AWS_ACCESS_KEY\")\n",
    "aws_secret_key = os.getenv(\"AWS_SECRET_KEY\")"
   ]
  },
  {
   "cell_type": "code",
   "execution_count": 3,
   "metadata": {},
   "outputs": [],
   "source": [
    "def read_csv_from_s3(bucket: str, path: str, filename: str) -> pd.DataFrame:\n",
    "    \"\"\"Downloads a csv file from an S3 bucket.\n",
    "    \n",
    "    Parameters\n",
    "    ----------\n",
    "    bucket : str \n",
    "        The bucket where the files at.\n",
    "        \n",
    "    path : str\n",
    "        The folders to the file.\n",
    "        \n",
    "    filename : str\n",
    "        Name of the file.\n",
    "        \n",
    "    Returns\n",
    "    ------\n",
    "    pd.DataFrame\n",
    "        A DataFrame of the downloaded file.\n",
    "    \n",
    "    \"\"\"\n",
    "    \n",
    "    s3 = boto3.client(\"s3\", aws_access_key_id=aws_acces_key_id, aws_secret_access_key=aws_secret_key) \n",
    "    \n",
    "    full_path = f\"{path}{filename}\"\n",
    "    \n",
    "    object = s3.get_object(Bucket=bucket, Key=full_path)\n",
    "    object = object[\"Body\"].read().decode(\"utf-8\")\n",
    "    output_df = pd.read_csv(StringIO(object))\n",
    "    \n",
    "    return output_df"
   ]
  },
  {
   "cell_type": "markdown",
   "metadata": {},
   "source": [
    "#### Prepare the folders"
   ]
  },
  {
   "cell_type": "code",
   "execution_count": null,
   "metadata": {},
   "outputs": [],
   "source": [
    "s3 = boto3.client(\"s3\", aws_access_key_id=aws_acces_key_id, aws_secret_access_key=aws_secret_key) \n",
    "bucket = \"<your-bucket-name>\"\n",
    "\n",
    "community_areas_path = \"transformed_data/community_areas/\"\n",
    "company_path = \"transformed_data/company/\"\n",
    "date_path = \"transformed_data/date/\"\n",
    "payment_type_path = \"transformed_data/payment_type/\"\n",
    "taxi_trips_path = \"transformed_data/taxi_trips/\"\n",
    "weather_path = \"transformed_data/weather/\""
   ]
  },
  {
   "cell_type": "markdown",
   "metadata": {},
   "source": [
    "#### Read files"
   ]
  },
  {
   "cell_type": "code",
   "execution_count": 5,
   "metadata": {},
   "outputs": [],
   "source": [
    "community_areas = read_csv_from_s3(bucket, community_areas_path, \"community_areas_master.csv\")\n",
    "company = read_csv_from_s3(bucket, company_path, \"company_master.csv\")\n",
    "date = read_csv_from_s3(bucket, date_path, \"date_dimension.csv\")\n",
    "payment_type = read_csv_from_s3(bucket=bucket, path=payment_type_path, filename=\"payment_type_master.csv\")"
   ]
  },
  {
   "cell_type": "code",
   "execution_count": 6,
   "metadata": {},
   "outputs": [],
   "source": [
    "trips_list = []\n",
    "weather_list = []"
   ]
  },
  {
   "cell_type": "code",
   "execution_count": 13,
   "metadata": {},
   "outputs": [
    {
     "name": "stdout",
     "output_type": "stream",
     "text": [
      "taxi_2024-04-21.csv has been added.\n",
      "taxi_2024-04-22.csv has been added.\n",
      "taxi_2024-04-23.csv has been added.\n",
      "taxi_2024-04-24.csv has been added.\n",
      "taxi_2024-04-25.csv has been added.\n",
      "taxi_2024-04-26.csv has been added.\n",
      "taxi_2024-04-27.csv has been added.\n",
      "taxi_2024-04-28.csv has been added.\n",
      "taxi_2024-04-29.csv has been added.\n",
      "taxi_2024-04-30.csv has been added.\n",
      "taxi_2024-05-01.csv has been added.\n",
      "taxi_2024-05-02.csv has been added.\n",
      "taxi_2024-05-03.csv has been added.\n",
      "taxi_2024-05-04.csv has been added.\n",
      "taxi_2024-05-05.csv has been added.\n",
      "taxi_2024-05-06.csv has been added.\n",
      "taxi_2024-05-07.csv has been added.\n",
      "taxi_2024-05-08.csv has been added.\n",
      "taxi_2024-05-09.csv has been added.\n",
      "taxi_2024-05-10.csv has been added.\n",
      "taxi_2024-05-11.csv has been added.\n",
      "taxi_2024-05-12.csv has been added.\n",
      "taxi_2024-05-13.csv has been added.\n",
      "taxi_2024-05-14.csv has been added.\n",
      "taxi_2024-05-15.csv has been added.\n",
      "taxi_2024-05-16.csv has been added.\n",
      "taxi_2024-05-17.csv has been added.\n",
      "taxi_2024-05-18.csv has been added.\n",
      "taxi_2024-05-19.csv has been added.\n",
      "taxi_2024-05-20.csv has been added.\n",
      "taxi_2024-05-21.csv has been added.\n",
      "taxi_2024-05-22.csv has been added.\n",
      "taxi_2024-05-23.csv has been added.\n",
      "taxi_2024-05-24.csv has been added.\n",
      "taxi_2024-05-25.csv has been added.\n",
      "taxi_2024-05-26.csv has been added.\n",
      "taxi_2024-05-27.csv has been added.\n",
      "taxi_2024-05-28.csv has been added.\n",
      "taxi_2024-05-29.csv has been added.\n",
      "taxi_2024-05-30.csv has been added.\n",
      "taxi_2024-05-31.csv has been added.\n",
      "taxi_2024-06-01.csv has been added.\n",
      "taxi_2024-06-02.csv has been added.\n",
      "taxi_2024-06-03.csv has been added.\n",
      "taxi_2024-06-04.csv has been added.\n",
      "taxi_2024-06-05.csv has been added.\n",
      "taxi_2024-06-06.csv has been added.\n",
      "taxi_2024-06-07.csv has been added.\n",
      "taxi_2024-06-08.csv has been added.\n",
      "taxi_2024-06-09.csv has been added.\n",
      "taxi_2024-06-10.csv has been added.\n",
      "taxi_2024-06-11.csv has been added.\n",
      "taxi_2024-06-12.csv has been added.\n",
      "taxi_2024-06-13.csv has been added.\n",
      "taxi_2024-06-14.csv has been added.\n",
      "taxi_2024-06-15.csv has been added.\n",
      "taxi_2024-06-16.csv has been added.\n",
      "taxi_2024-06-17.csv has been added.\n",
      "taxi_2024-06-18.csv has been added.\n",
      "taxi_2024-06-19.csv has been added.\n",
      "taxi_2024-06-20.csv has been added.\n",
      "taxi_2024-06-21.csv has been added.\n",
      "taxi_2024-06-22.csv has been added.\n",
      "taxi_2024-06-23.csv has been added.\n",
      "taxi_2024-06-24.csv has been added.\n",
      "taxi_2024-06-25.csv has been added.\n"
     ]
    }
   ],
   "source": [
    "for file in s3.list_objects(Bucket=bucket, Prefix=taxi_trips_path)[\"Contents\"]:\n",
    "    taxi_trip_key = file[\"Key\"]\n",
    "    \n",
    "    if taxi_trip_key.split(\"/\")[-1].strip() != \"\":\n",
    "        if taxi_trip_key.split(\".\")[1] == \"csv\":\n",
    "            \n",
    "            filename = taxi_trip_key.split(\"/\")[-1]\n",
    "            if filename > \"taxi_2024-04-20.csv\":\n",
    "                trip = read_csv_from_s3(bucket, taxi_trips_path, filename)\n",
    "\n",
    "                trips_list.append(trip)\n",
    "                print(f\"{filename} has been added.\")"
   ]
  },
  {
   "cell_type": "code",
   "execution_count": 14,
   "metadata": {},
   "outputs": [],
   "source": [
    "trips = pd.concat(trips_list, ignore_index=True)"
   ]
  },
  {
   "cell_type": "code",
   "execution_count": 15,
   "metadata": {},
   "outputs": [
    {
     "data": {
      "text/plain": [
       "(1184868, 20)"
      ]
     },
     "execution_count": 15,
     "metadata": {},
     "output_type": "execute_result"
    }
   ],
   "source": [
    "trips.shape"
   ]
  },
  {
   "cell_type": "code",
   "execution_count": 16,
   "metadata": {},
   "outputs": [],
   "source": [
    "# trips.to_csv(\"taxi_trips.csv\")"
   ]
  },
  {
   "cell_type": "code",
   "execution_count": 17,
   "metadata": {},
   "outputs": [
    {
     "name": "stdout",
     "output_type": "stream",
     "text": [
      "weather_2024-04-21.csv has been added.\n",
      "weather_2024-04-22.csv has been added.\n",
      "weather_2024-04-23.csv has been added.\n",
      "weather_2024-04-24.csv has been added.\n",
      "weather_2024-04-25.csv has been added.\n",
      "weather_2024-04-26.csv has been added.\n",
      "weather_2024-04-27.csv has been added.\n",
      "weather_2024-04-28.csv has been added.\n",
      "weather_2024-04-29.csv has been added.\n",
      "weather_2024-04-30.csv has been added.\n",
      "weather_2024-05-01.csv has been added.\n",
      "weather_2024-05-02.csv has been added.\n",
      "weather_2024-05-03.csv has been added.\n",
      "weather_2024-05-04.csv has been added.\n",
      "weather_2024-05-05.csv has been added.\n",
      "weather_2024-05-06.csv has been added.\n",
      "weather_2024-05-07.csv has been added.\n",
      "weather_2024-05-08.csv has been added.\n",
      "weather_2024-05-09.csv has been added.\n",
      "weather_2024-05-10.csv has been added.\n",
      "weather_2024-05-11.csv has been added.\n",
      "weather_2024-05-12.csv has been added.\n",
      "weather_2024-05-13.csv has been added.\n",
      "weather_2024-05-14.csv has been added.\n",
      "weather_2024-05-15.csv has been added.\n",
      "weather_2024-05-16.csv has been added.\n",
      "weather_2024-05-17.csv has been added.\n",
      "weather_2024-05-18.csv has been added.\n",
      "weather_2024-05-19.csv has been added.\n",
      "weather_2024-05-20.csv has been added.\n",
      "weather_2024-05-21.csv has been added.\n",
      "weather_2024-05-22.csv has been added.\n",
      "weather_2024-05-23.csv has been added.\n",
      "weather_2024-05-24.csv has been added.\n",
      "weather_2024-05-25.csv has been added.\n",
      "weather_2024-05-26.csv has been added.\n",
      "weather_2024-05-27.csv has been added.\n",
      "weather_2024-05-28.csv has been added.\n",
      "weather_2024-05-29.csv has been added.\n",
      "weather_2024-05-30.csv has been added.\n",
      "weather_2024-05-31.csv has been added.\n",
      "weather_2024-06-01.csv has been added.\n",
      "weather_2024-06-02.csv has been added.\n",
      "weather_2024-06-03.csv has been added.\n",
      "weather_2024-06-04.csv has been added.\n",
      "weather_2024-06-05.csv has been added.\n",
      "weather_2024-06-06.csv has been added.\n",
      "weather_2024-06-07.csv has been added.\n",
      "weather_2024-06-08.csv has been added.\n",
      "weather_2024-06-09.csv has been added.\n",
      "weather_2024-06-10.csv has been added.\n",
      "weather_2024-06-11.csv has been added.\n",
      "weather_2024-06-12.csv has been added.\n",
      "weather_2024-06-13.csv has been added.\n",
      "weather_2024-06-14.csv has been added.\n",
      "weather_2024-06-15.csv has been added.\n",
      "weather_2024-06-16.csv has been added.\n",
      "weather_2024-06-17.csv has been added.\n",
      "weather_2024-06-18.csv has been added.\n",
      "weather_2024-06-19.csv has been added.\n",
      "weather_2024-06-20.csv has been added.\n",
      "weather_2024-06-21.csv has been added.\n",
      "weather_2024-06-22.csv has been added.\n",
      "weather_2024-06-23.csv has been added.\n",
      "weather_2024-06-24.csv has been added.\n",
      "weather_2024-06-25.csv has been added.\n"
     ]
    }
   ],
   "source": [
    "for file in s3.list_objects(Bucket=bucket, Prefix=weather_path)[\"Contents\"]:\n",
    "    weather_key = file[\"Key\"]\n",
    "    \n",
    "    if weather_key.split(\"/\")[-1].strip() != \"\":\n",
    "        if weather_key.split(\".\")[1] == \"csv\":\n",
    "            \n",
    "            filename = weather_key.split(\"/\")[-1]\n",
    "            if filename > \"weather_2024-04-20.csv\":\n",
    "                weather_daily = read_csv_from_s3(bucket, weather_path, filename)\n",
    "\n",
    "                weather_list.append(weather_daily)\n",
    "                print(f\"{filename} has been added.\")  "
   ]
  },
  {
   "cell_type": "code",
   "execution_count": 18,
   "metadata": {},
   "outputs": [],
   "source": [
    "weather = pd.concat(weather_list, ignore_index=True)"
   ]
  },
  {
   "cell_type": "code",
   "execution_count": 19,
   "metadata": {},
   "outputs": [
    {
     "data": {
      "text/plain": [
       "(1584, 5)"
      ]
     },
     "execution_count": 19,
     "metadata": {},
     "output_type": "execute_result"
    }
   ],
   "source": [
    "weather.shape"
   ]
  },
  {
   "cell_type": "code",
   "execution_count": 20,
   "metadata": {},
   "outputs": [],
   "source": [
    "# weather.to_csv(\"weather.csv\")"
   ]
  },
  {
   "cell_type": "markdown",
   "metadata": {},
   "source": [
    "#### Join them together"
   ]
  },
  {
   "cell_type": "code",
   "execution_count": null,
   "metadata": {},
   "outputs": [],
   "source": [
    "trips_full = pd.merge(trips, weather, left_on=\"datetime_for_weather\", right_on=\"datetime\", how=\"inner\")\n",
    "trips_full = trips_full.drop(columns=[\"datetime\"])"
   ]
  },
  {
   "cell_type": "code",
   "execution_count": null,
   "metadata": {},
   "outputs": [],
   "source": [
    "trips_full = pd.merge(trips_full, company, left_on=\"company_id\", right_on=\"company_id\", how=\"inner\")\n",
    "trips_full = trips_full.drop(columns=[\"company_id\"])"
   ]
  },
  {
   "cell_type": "code",
   "execution_count": null,
   "metadata": {},
   "outputs": [],
   "source": [
    "trips_full = pd.merge(trips_full, payment_type, left_on=\"payment_type_id\", right_on=\"payment_type_id\", how=\"inner\")\n",
    "trips_full = trips_full.drop(columns=[\"payment_type_id\"])"
   ]
  },
  {
   "cell_type": "code",
   "execution_count": null,
   "metadata": {},
   "outputs": [],
   "source": [
    "trips_full = pd.merge(trips_full, community_areas, left_on=\"pickup_community_area_id\", right_on=\"area_code\", how=\"inner\")\n",
    "trips_full = trips_full.drop(columns=[\"pickup_community_area_id\", \"area_code\"])\n",
    "trips_full.rename(columns={\"community_name\": \"pickup_community_area_name\"}, inplace=True)"
   ]
  },
  {
   "cell_type": "code",
   "execution_count": null,
   "metadata": {},
   "outputs": [],
   "source": [
    "trips_full = pd.merge(trips_full, community_areas, left_on=\"dropoff_community_area_id\", right_on=\"area_code\", how=\"inner\")\n",
    "trips_full = trips_full.drop(columns=[\"dropoff_community_area_id\", \"area_code\"])\n",
    "trips_full.rename(columns={\"community_name\": \"dropoff_community_area_name\"}, inplace=True)"
   ]
  },
  {
   "cell_type": "code",
   "execution_count": null,
   "metadata": {},
   "outputs": [],
   "source": [
    "date['date'] = pd.to_datetime(date['date'])\n",
    "trips_full[\"trip_start_timestamp\"] = pd.to_datetime(trips_full[\"trip_start_timestamp\"])\n",
    "\n",
    "trips_full[\"trip_start_date\"] = trips_full[\"trip_start_timestamp\"].dt.date\n",
    "trips_full[\"trip_start_date\"] = pd.to_datetime(trips_full[\"trip_start_date\"])"
   ]
  },
  {
   "cell_type": "code",
   "execution_count": null,
   "metadata": {},
   "outputs": [],
   "source": [
    "trips_full = pd.merge(trips_full, date, left_on=\"trip_start_date\", right_on=\"date\", how=\"inner\")\n",
    "trips_full = trips_full.drop(columns=[\"date\"])"
   ]
  },
  {
   "cell_type": "code",
   "execution_count": null,
   "metadata": {},
   "outputs": [],
   "source": [
    "trips_full.head()"
   ]
  },
  {
   "cell_type": "markdown",
   "metadata": {},
   "source": [
    "#### Visualisations"
   ]
  },
  {
   "cell_type": "code",
   "execution_count": null,
   "metadata": {},
   "outputs": [],
   "source": [
    "# pip install seaborn"
   ]
  },
  {
   "cell_type": "code",
   "execution_count": null,
   "metadata": {},
   "outputs": [],
   "source": [
    "# 1 - Histogram of Trip Durations\n",
    "\n",
    "sns.histplot(trips_full['trip_seconds'], bins=30, kde=False)\n",
    "plt.title('Histogram of Trip Durations')\n",
    "plt.xlabel('Trip Duration (seconds)')\n",
    "plt.ylabel('Count')\n",
    "plt.xlim(0, 5000)  # Adjust the x-axis limits for better visibility, clear the outliers\n",
    "plt.show()"
   ]
  },
  {
   "cell_type": "code",
   "execution_count": null,
   "metadata": {},
   "outputs": [],
   "source": [
    "# 2 - Scatter Plot of Trip Miles vs. Fare\n",
    "\n",
    "sns.scatterplot(x='trip_miles', y='fare', data=trips_full)\n",
    "plt.title('Scatter Plot of Trip Miles vs. Fare')\n",
    "plt.xlabel('Trip Miles')\n",
    "plt.ylabel('Fare')\n",
    "plt.xlim(0, 30)  # Adjust the x-axis limits for better visibility, clear the outliers\n",
    "plt.show()"
   ]
  },
  {
   "cell_type": "code",
   "execution_count": null,
   "metadata": {},
   "outputs": [],
   "source": [
    "# 3 - Average Fare by Day of the Week\n",
    "\n",
    "trips_full['day_of_week'] = trips_full['trip_start_timestamp'].dt.day_name()\n",
    "sns.barplot(x='day_of_week', y='fare', data=trips_full, ci=None)\n",
    "plt.title('Average Fare by Day of the Week')\n",
    "plt.xlabel('Day of the Week')\n",
    "plt.ylabel('Average Fare')\n",
    "plt.show()"
   ]
  },
  {
   "cell_type": "code",
   "execution_count": null,
   "metadata": {},
   "outputs": [],
   "source": [
    "# 4 - Count Plot of Payment Types\n",
    "\n",
    "sns.countplot(x='payment_type', data=trips_full)\n",
    "plt.title('Count Plot of Payment Types')\n",
    "plt.xlabel('Payment Type')\n",
    "plt.ylabel('Count')\n",
    "plt.show()\n"
   ]
  },
  {
   "cell_type": "code",
   "execution_count": null,
   "metadata": {},
   "outputs": [],
   "source": [
    "# 5 - Average Trip Miles by Payment Type\n",
    "\n",
    "sns.barplot(x='payment_type', y='trip_miles', data=trips_full)\n",
    "plt.title('Average Trip Miles by Payment Type')\n",
    "plt.xlabel('Payment Type')\n",
    "plt.ylabel('Average Trip Miles')\n",
    "plt.show()"
   ]
  },
  {
   "cell_type": "code",
   "execution_count": null,
   "metadata": {},
   "outputs": [],
   "source": [
    "# 6 - Box Plot of Trip Distances by Pickup Community Area\n",
    "\n",
    "plt.figure(figsize=(14, 8))\n",
    "sns.boxplot(x='pickup_community_area_name', y='trip_miles', data=trips_full, order=trips_full['pickup_community_area_name'].value_counts().index)\n",
    "plt.title('Box Plot of Trip Distances by Pickup Community Area')\n",
    "plt.xlabel('Pickup Community Area')\n",
    "plt.ylabel('Trip Miles')\n",
    "plt.xticks(rotation=90)\n",
    "plt.show()"
   ]
  }
 ],
 "metadata": {
  "kernelspec": {
   "display_name": "venv",
   "language": "python",
   "name": "python3"
  },
  "language_info": {
   "codemirror_mode": {
    "name": "ipython",
    "version": 3
   },
   "file_extension": ".py",
   "mimetype": "text/x-python",
   "name": "python",
   "nbconvert_exporter": "python",
   "pygments_lexer": "ipython3",
   "version": "3.10.8"
  }
 },
 "nbformat": 4,
 "nbformat_minor": 2
}
