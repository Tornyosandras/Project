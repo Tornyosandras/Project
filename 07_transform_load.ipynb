{
 "cells": [
  {
   "cell_type": "code",
   "execution_count": 60,
   "metadata": {},
   "outputs": [],
   "source": [
    "import pandas as pd\n",
    "import os\n",
    "import json\n",
    "import requests\n",
    "from datetime import datetime\n",
    "from dateutil.relativedelta import relativedelta\n",
    "pd.set_option(\"display.max_columns\", 30)"
   ]
  },
  {
   "cell_type": "code",
   "execution_count": null,
   "metadata": {},
   "outputs": [],
   "source": [
    "\"\"\"\n",
    "\n",
    "1. get the data from S3\n",
    "2. weather data transformation\n",
    "3. taxi trips transformation - DONE\n",
    "4. update payment_type_master - DONE\n",
    "5. update company_master - DONE\n",
    "6. update taxi_trips with with company and payment_type ids(replace the string values with ids from the latest master tables) - DONE\n",
    "7. upload weather data to S3\n",
    "8. upload taxi data to S3\n",
    "9. upload the newest payment_type_master and company_master to S3\n",
    "\n",
    "\"\"\""
   ]
  },
  {
   "cell_type": "markdown",
   "metadata": {},
   "source": [
    "### Taxi trips transformation codes"
   ]
  },
  {
   "cell_type": "code",
   "execution_count": null,
   "metadata": {},
   "outputs": [],
   "source": [
    "current_datetime = datetime.now() - relativedelta(months=2)\n",
    "formatted_datetime = current_datetime.strftime(\"%Y-%m-%d\")\n",
    "url = (\n",
    "    f\"https://data.cityofchicago.org/resource/ajtu-isnz.json?\"\n",
    "    f\"$where=trip_start_timestamp >= '{formatted_datetime}T00:00:00' \"\n",
    "    f\"AND trip_start_timestamp <= '{formatted_datetime}T23:59:59'&$limit=30000\"\n",
    ")\n",
    "response = requests.get(url)\n",
    "data = response.json()"
   ]
  },
  {
   "cell_type": "code",
   "execution_count": null,
   "metadata": {},
   "outputs": [],
   "source": [
    "taxi_trips = pd.DataFrame(data)"
   ]
  },
  {
   "cell_type": "code",
   "execution_count": null,
   "metadata": {},
   "outputs": [],
   "source": [
    "taxi_trips.drop([\"pickup_census_tract\", \"dropoff_census_tract\"], axis=1, inplace=True)\n",
    "taxi_trips.drop([\"pickup_centroid_location\", \"dropoff_centroid_location\"], axis=1, inplace=True)\n",
    "\n",
    "taxi_trips.dropna(inplace=True)\n",
    "\n",
    "taxi_trips.rename(columns={\"pickup_community_area\": \"pickup_community_area_id\", \n",
    "                           \"dropoff_community_area\": \"dropoff_community_area_id\"},\n",
    "                  inplace=True)\n",
    "\n",
    "taxi_trips[\"datetime_for_weather\"] = pd.to_datetime(taxi_trips[\"trip_start_timestamp\"])"
   ]
  },
  {
   "cell_type": "code",
   "execution_count": null,
   "metadata": {},
   "outputs": [],
   "source": [
    "taxi_trips.head(5)"
   ]
  },
  {
   "cell_type": "markdown",
   "metadata": {},
   "source": [
    "### Taxi trips transformation function"
   ]
  },
  {
   "cell_type": "code",
   "execution_count": null,
   "metadata": {},
   "outputs": [],
   "source": [
    "def taxi_trips_transformations(taxi_trips: pd.DataFrame) -> pd.DataFrame:\n",
    "    \"\"\"Perform transformations with the taxi data\n",
    "\n",
    "    Args:\n",
    "        taxi_trips (pd.DataFrame): The data frame holding the daily taxi trips.\n",
    "\n",
    "    Returns:\n",
    "        pd.DataFrame: The cleaned, transformed data frame holding the daily taxi trips.\n",
    "    \"\"\"\n",
    "    if not isinstance (taxi_trips, pd.DataFrame):\n",
    "        raise TypeError (\"taxi_trips is not a valid pandas DataFrame.\")\n",
    "    \n",
    "    taxi_trips.drop([\"pickup_census_tract\", \"dropoff_census_tract\"], axis=1, inplace=True)\n",
    "    taxi_trips.drop([\"pickup_centroid_location\", \"dropoff_centroid_location\"], axis=1, inplace=True)\n",
    "    \n",
    "    taxi_trips.dropna(inplace=True)\n",
    "    \n",
    "    taxi_trips.rename(columns={\"pickup_community_area\": \"pickup_community_area_id\", \n",
    "        \"dropoff_community_area\": \"dropoff_community_area_id\"}, inplace=True)\n",
    "    \n",
    "    taxi_trips[\"datetime_for_weather\"] = pd.to_datetime(taxi_trips[\"trip_start_timestamp\"])\n",
    "    \n",
    "    return taxi_trips"
   ]
  },
  {
   "cell_type": "markdown",
   "metadata": {},
   "source": [
    "#### Company code updates"
   ]
  },
  {
   "cell_type": "code",
   "execution_count": null,
   "metadata": {},
   "outputs": [],
   "source": [
    "company_master = taxi_trips[\"company\"].drop_duplicates().reset_index(drop=True)\n",
    "company_master = pd.DataFrame(\n",
    "    {\n",
    "        \"company_id\": range(1, len(company_master) + 1),\n",
    "        \"company\": company_master\n",
    "        \n",
    "    }\n",
    "    \n",
    ")\n",
    "\n",
    "company_master"
   ]
  },
  {
   "cell_type": "code",
   "execution_count": null,
   "metadata": {},
   "outputs": [],
   "source": [
    "new_company_data = [\n",
    "{\"company\": \"3556 - 36214 RC Andrews Cab\"},\n",
    "{\"company\": \"x\"},\n",
    "{\"company\": \"y\"}\n",
    "]\n",
    "\n",
    "new_company_mapping = pd.DataFrame(new_company_data)\n",
    "\n",
    "new_company_mapping"
   ]
  },
  {
   "cell_type": "code",
   "execution_count": null,
   "metadata": {},
   "outputs": [],
   "source": [
    "company_max_id_value = company_master[\"company_id\"].max()\n",
    "company_max_id_value"
   ]
  },
  {
   "cell_type": "code",
   "execution_count": null,
   "metadata": {},
   "outputs": [],
   "source": [
    "new_companies_list = []\n",
    "\n",
    "for company in new_company_mapping[\"company\"].values:\n",
    "    if company not in company_master[\"company\"].values:\n",
    "        new_companies_list.append(company)\n",
    "new_companies_list"
   ]
  },
  {
   "cell_type": "code",
   "execution_count": null,
   "metadata": {},
   "outputs": [],
   "source": [
    "new_companies_df = pd.DataFrame({\n",
    "    \"company_id\": range(company_max_id_value + 1, company_max_id_value + len(new_companies_list) + 1),\n",
    "    \"company\": new_companies_list\n",
    "    })"
   ]
  },
  {
   "cell_type": "code",
   "execution_count": null,
   "metadata": {},
   "outputs": [],
   "source": [
    "new_companies_df"
   ]
  },
  {
   "cell_type": "code",
   "execution_count": null,
   "metadata": {},
   "outputs": [],
   "source": [
    "updated_company_master = pd.concat([company_master, new_companies_df], ignore_index = True)\n",
    "updated_company_master.tail()"
   ]
  },
  {
   "cell_type": "code",
   "execution_count": null,
   "metadata": {},
   "outputs": [],
   "source": [
    "def update_company_master(taxi_trips: pd.DataFrame, company_master: pd.DataFrame) -> pd.DataFrame:\n",
    "    \"\"\"Extend the company master with new companies if there are new companies.\n",
    "\n",
    "    Args:\n",
    "        taxi_trips (pd.DataFrame): Dataframe holding the daily taxi trips.\n",
    "        company_master (pd.DataFrame): Dataframe holding the company_master data .\n",
    "\n",
    "    Returns:\n",
    "        pd.DataFrame: The updated company master data, if new companyies are in the taxi data, they will be loaded to it.\n",
    "    \"\"\"\n",
    "    company_max_id_value = company_master[\"company_id\"].max()\n",
    "    \n",
    "    new_companies_list = []\n",
    "    for company in taxi_trips[\"company\"].values:\n",
    "        if company not in company_master[\"company\"].values:\n",
    "            new_companies_list.append(company)\n",
    "            \n",
    "    new_companies_df = pd.DataFrame({\n",
    "    \"company_id\": range(company_max_id_value + 1, company_max_id_value + len(new_companies_list) + 1),\n",
    "    \"company\": new_companies_list\n",
    "    })\n",
    "    \n",
    "    updated_company_master = pd.concat([company_master, new_companies_df], ignore_index = True)\n",
    "    updated_company_master.tail()\n",
    "    \n",
    "    return updated_company_master\n"
   ]
  },
  {
   "cell_type": "code",
   "execution_count": null,
   "metadata": {},
   "outputs": [],
   "source": [
    "taxi_trips_company_only = pd.DataFrame({\n",
    "    \"company_id\":[1, 2, 3],\n",
    "    \"company\":[\"6574 - Babylon Express Inc.\", \"X\", \"Y\"]\n",
    "})\n",
    "\n",
    "taxi_trips_company_only"
   ]
  },
  {
   "cell_type": "code",
   "execution_count": null,
   "metadata": {},
   "outputs": [],
   "source": [
    "updated_company_master = update_company_master(taxi_trips=taxi_trips_company_only, company_master=company_master)"
   ]
  },
  {
   "cell_type": "code",
   "execution_count": null,
   "metadata": {},
   "outputs": [],
   "source": [
    "update_company_master.tail()"
   ]
  },
  {
   "cell_type": "markdown",
   "metadata": {},
   "source": [
    "#### payment_type_master codes"
   ]
  },
  {
   "cell_type": "code",
   "execution_count": 39,
   "metadata": {},
   "outputs": [
    {
     "data": {
      "text/html": [
       "<div>\n",
       "<style scoped>\n",
       "    .dataframe tbody tr th:only-of-type {\n",
       "        vertical-align: middle;\n",
       "    }\n",
       "\n",
       "    .dataframe tbody tr th {\n",
       "        vertical-align: top;\n",
       "    }\n",
       "\n",
       "    .dataframe thead th {\n",
       "        text-align: right;\n",
       "    }\n",
       "</style>\n",
       "<table border=\"1\" class=\"dataframe\">\n",
       "  <thead>\n",
       "    <tr style=\"text-align: right;\">\n",
       "      <th></th>\n",
       "      <th>payment_type_id</th>\n",
       "      <th>payment_type</th>\n",
       "    </tr>\n",
       "  </thead>\n",
       "  <tbody>\n",
       "    <tr>\n",
       "      <th>0</th>\n",
       "      <td>1</td>\n",
       "      <td>Credit Card</td>\n",
       "    </tr>\n",
       "    <tr>\n",
       "      <th>1</th>\n",
       "      <td>2</td>\n",
       "      <td>X</td>\n",
       "    </tr>\n",
       "    <tr>\n",
       "      <th>2</th>\n",
       "      <td>3</td>\n",
       "      <td>Y</td>\n",
       "    </tr>\n",
       "  </tbody>\n",
       "</table>\n",
       "</div>"
      ],
      "text/plain": [
       "   payment_type_id payment_type\n",
       "0                1  Credit Card\n",
       "1                2            X\n",
       "2                3            Y"
      ]
     },
     "execution_count": 39,
     "metadata": {},
     "output_type": "execute_result"
    }
   ],
   "source": [
    "payment_type_master = taxi_trips[\"payment_type\"].drop_duplicates().reset_index(drop=True)\n",
    "payment_type_master = pd.DataFrame(\n",
    "    {\n",
    "        \"payment_type_id\": range(1, len(payment_type_master) + 1),\n",
    "        \"payment_type\": payment_type_master\n",
    "        \n",
    "    }\n",
    "    \n",
    ")\n",
    "\n",
    "taxi_trips_payment_type_only = pd.DataFrame({\n",
    "    \"payment_type_id\":[1, 2, 3],\n",
    "    \"payment_type\":[\"Credit Card\", \"X\", \"Y\"]\n",
    "})\n",
    "\n",
    "taxi_trips_payment_type_only\n"
   ]
  },
  {
   "cell_type": "code",
   "execution_count": null,
   "metadata": {},
   "outputs": [],
   "source": [
    "def update_payment_type_master(taxi_trips: pd.DataFrame, payment_type_master: pd.DataFrame) -> pd.DataFrame:\n",
    "    \"\"\"Extend the payment type master with new payment types if there are payment types.\n",
    "\n",
    "    Args:\n",
    "        taxi_trips (pd.DataFrame): Dataframe holding the daily taxi trips.\n",
    "        payment_type_master (pd.DataFrame): Dataframe holding the payment_type data .\n",
    "\n",
    "    Returns:\n",
    "        pd.DataFrame: The updated payment type master data, if new payments are in the taxi data, they will be loaded to it.\n",
    "    \"\"\"\n",
    "    payment_type_max_id_value = payment_type_master[\"payment_type_id\"].max()\n",
    "    \n",
    "    new_payment_types_list = []\n",
    "    for payment_type in taxi_trips[\"payment_type\"].values:\n",
    "        if payment_type not in payment_type_master[\"payment_type\"].values:\n",
    "            new_payment_types_list.append(payment_type)\n",
    "            \n",
    "    new_payment_type_df = pd.DataFrame({\n",
    "    \"payment_type_id\": range(payment_type_max_id_value + 1, payment_type_max_id_value + len(new_payment_types_list) + 1),\n",
    "    \"payment_type\": new_payment_types_list\n",
    "    })\n",
    "    \n",
    "    updated_payment_type_master = pd.concat([payment_type_master, new_payment_type_df], ignore_index = True)\n",
    "    \n",
    "    return updated_payment_type_master\n"
   ]
  },
  {
   "cell_type": "code",
   "execution_count": 40,
   "metadata": {},
   "outputs": [],
   "source": [
    "updated_payment_type_master = update_payment_type_master(taxi_trips=taxi_trips_payment_type_only, payment_type_master=payment_type_master)"
   ]
  },
  {
   "cell_type": "code",
   "execution_count": 41,
   "metadata": {},
   "outputs": [
    {
     "data": {
      "text/html": [
       "<div>\n",
       "<style scoped>\n",
       "    .dataframe tbody tr th:only-of-type {\n",
       "        vertical-align: middle;\n",
       "    }\n",
       "\n",
       "    .dataframe tbody tr th {\n",
       "        vertical-align: top;\n",
       "    }\n",
       "\n",
       "    .dataframe thead th {\n",
       "        text-align: right;\n",
       "    }\n",
       "</style>\n",
       "<table border=\"1\" class=\"dataframe\">\n",
       "  <thead>\n",
       "    <tr style=\"text-align: right;\">\n",
       "      <th></th>\n",
       "      <th>payment_type_id</th>\n",
       "      <th>payment_type</th>\n",
       "    </tr>\n",
       "  </thead>\n",
       "  <tbody>\n",
       "    <tr>\n",
       "      <th>0</th>\n",
       "      <td>1</td>\n",
       "      <td>Cash</td>\n",
       "    </tr>\n",
       "    <tr>\n",
       "      <th>1</th>\n",
       "      <td>2</td>\n",
       "      <td>Credit Card</td>\n",
       "    </tr>\n",
       "    <tr>\n",
       "      <th>2</th>\n",
       "      <td>3</td>\n",
       "      <td>Prcard</td>\n",
       "    </tr>\n",
       "    <tr>\n",
       "      <th>3</th>\n",
       "      <td>4</td>\n",
       "      <td>Mobile</td>\n",
       "    </tr>\n",
       "    <tr>\n",
       "      <th>4</th>\n",
       "      <td>5</td>\n",
       "      <td>Unknown</td>\n",
       "    </tr>\n",
       "    <tr>\n",
       "      <th>5</th>\n",
       "      <td>6</td>\n",
       "      <td>No Charge</td>\n",
       "    </tr>\n",
       "    <tr>\n",
       "      <th>6</th>\n",
       "      <td>7</td>\n",
       "      <td>Dispute</td>\n",
       "    </tr>\n",
       "    <tr>\n",
       "      <th>7</th>\n",
       "      <td>8</td>\n",
       "      <td>X</td>\n",
       "    </tr>\n",
       "    <tr>\n",
       "      <th>8</th>\n",
       "      <td>9</td>\n",
       "      <td>Y</td>\n",
       "    </tr>\n",
       "  </tbody>\n",
       "</table>\n",
       "</div>"
      ],
      "text/plain": [
       "   payment_type_id payment_type\n",
       "0                1         Cash\n",
       "1                2  Credit Card\n",
       "2                3       Prcard\n",
       "3                4       Mobile\n",
       "4                5      Unknown\n",
       "5                6    No Charge\n",
       "6                7      Dispute\n",
       "7                8            X\n",
       "8                9            Y"
      ]
     },
     "execution_count": 41,
     "metadata": {},
     "output_type": "execute_result"
    }
   ],
   "source": [
    "updated_payment_type_master"
   ]
  },
  {
   "cell_type": "markdown",
   "metadata": {},
   "source": [
    "## Creating a generic master table  function"
   ]
  },
  {
   "cell_type": "code",
   "execution_count": null,
   "metadata": {},
   "outputs": [],
   "source": [
    "def update_master(taxi_trips: pd.DataFrame, master: pd.DataFrame, id_column: str, value_column: str ) -> pd.DataFrame:\n",
    "    \"\"\"Extend the payment type master with master value.\n",
    "\n",
    "    Args:\n",
    "        taxi_trips (pd.DataFrame): Dataframe holding the daily taxi trips.\n",
    "        master (pd.DataFrame): Dataframe holding the payment_type data .\n",
    "        id_column : str\n",
    "        The id column of the master dataframe.\n",
    "        value_column : str\n",
    "        Name of the in the master_df contining the values.\n",
    "    Returns:\n",
    "        pd.DataFrame: The updated  master data if new values are in the taxi data, they will be loaded to it.\n",
    "    \"\"\"\n",
    "    max_id_value = master[id_column].max()\n",
    "    \n",
    "    new_values_list = []\n",
    "    for value in taxi_trips[value_column].values:\n",
    "        if value not in master[value_column].values:\n",
    "            new_values_list.append(value)\n",
    "            \n",
    "    new_values_df = pd.DataFrame({\n",
    "    id_column: range(max_id_value + 1, max_id_value + len(new_values_list) + 1),\n",
    "    value_column: new_values_list\n",
    "    })\n",
    "    \n",
    "    updated_master = pd.concat([master, new_values_df], ignore_index = True)\n",
    "    \n",
    "    return updated_master\n"
   ]
  },
  {
   "cell_type": "code",
   "execution_count": 46,
   "metadata": {},
   "outputs": [],
   "source": [
    "test_payment_type_master = update_master(taxi_trips=taxi_trips_payment_type_only, master=payment_type_master, id_column=\"payment_type_id\", value_column=\"payment_type\")"
   ]
  },
  {
   "cell_type": "code",
   "execution_count": 47,
   "metadata": {},
   "outputs": [
    {
     "data": {
      "text/html": [
       "<div>\n",
       "<style scoped>\n",
       "    .dataframe tbody tr th:only-of-type {\n",
       "        vertical-align: middle;\n",
       "    }\n",
       "\n",
       "    .dataframe tbody tr th {\n",
       "        vertical-align: top;\n",
       "    }\n",
       "\n",
       "    .dataframe thead th {\n",
       "        text-align: right;\n",
       "    }\n",
       "</style>\n",
       "<table border=\"1\" class=\"dataframe\">\n",
       "  <thead>\n",
       "    <tr style=\"text-align: right;\">\n",
       "      <th></th>\n",
       "      <th>payment_type_id</th>\n",
       "      <th>payment_type</th>\n",
       "    </tr>\n",
       "  </thead>\n",
       "  <tbody>\n",
       "    <tr>\n",
       "      <th>0</th>\n",
       "      <td>1</td>\n",
       "      <td>Cash</td>\n",
       "    </tr>\n",
       "    <tr>\n",
       "      <th>1</th>\n",
       "      <td>2</td>\n",
       "      <td>Credit Card</td>\n",
       "    </tr>\n",
       "    <tr>\n",
       "      <th>2</th>\n",
       "      <td>3</td>\n",
       "      <td>Prcard</td>\n",
       "    </tr>\n",
       "    <tr>\n",
       "      <th>3</th>\n",
       "      <td>4</td>\n",
       "      <td>Mobile</td>\n",
       "    </tr>\n",
       "    <tr>\n",
       "      <th>4</th>\n",
       "      <td>5</td>\n",
       "      <td>Unknown</td>\n",
       "    </tr>\n",
       "    <tr>\n",
       "      <th>5</th>\n",
       "      <td>6</td>\n",
       "      <td>No Charge</td>\n",
       "    </tr>\n",
       "    <tr>\n",
       "      <th>6</th>\n",
       "      <td>7</td>\n",
       "      <td>Dispute</td>\n",
       "    </tr>\n",
       "    <tr>\n",
       "      <th>7</th>\n",
       "      <td>8</td>\n",
       "      <td>X</td>\n",
       "    </tr>\n",
       "    <tr>\n",
       "      <th>8</th>\n",
       "      <td>9</td>\n",
       "      <td>Y</td>\n",
       "    </tr>\n",
       "  </tbody>\n",
       "</table>\n",
       "</div>"
      ],
      "text/plain": [
       "   payment_type_id payment_type\n",
       "0                1         Cash\n",
       "1                2  Credit Card\n",
       "2                3       Prcard\n",
       "3                4       Mobile\n",
       "4                5      Unknown\n",
       "5                6    No Charge\n",
       "6                7      Dispute\n",
       "7                8            X\n",
       "8                9            Y"
      ]
     },
     "execution_count": 47,
     "metadata": {},
     "output_type": "execute_result"
    }
   ],
   "source": [
    "test_payment_type_master"
   ]
  },
  {
   "cell_type": "code",
   "execution_count": 48,
   "metadata": {},
   "outputs": [],
   "source": [
    "test_company_master = update_master(taxi_trips=taxi_trips_company_only, master=company_master, id_column=\"company_id\", value_column=\"company\")"
   ]
  },
  {
   "cell_type": "code",
   "execution_count": null,
   "metadata": {},
   "outputs": [],
   "source": [
    "test_company_master"
   ]
  },
  {
   "cell_type": "markdown",
   "metadata": {},
   "source": [
    "### update taxi_trips with the most recent payment_type_master and company_master_codes"
   ]
  },
  {
   "cell_type": "code",
   "execution_count": 62,
   "metadata": {},
   "outputs": [],
   "source": [
    "def update_taxi_trips_with_master_data (taxi_trips: pd.DataFrame,payment_type_master: pd.DataFrame, company_master: pd.DataFrame) -> pd.DataFrame:\n",
    "    \"\"\"updathe the taxi_trips Dataframe with the company_master and payment_type_master ids, and delete the string columns.\n",
    "\n",
    "    Args:\n",
    "        taxi_trips (pd.DataFrame): Dataframe holding the daily taxi trips.\n",
    "        payment_type_master (pd.DataFrame): payment master table.\n",
    "        company_master (pd.DataFrame): company master table.\n",
    "    Returns:\n",
    "        pd.DataFrame: The taxi trips data, with only payment type id and company id, without payment_type and company values.\n",
    "    \"\"\"\n",
    "    taxi_trips_id = taxi_trips.merge(payment_type_master, on = \"payment_type\")\n",
    "    taxi_trips_id = taxi_trips_id.merge(company_master, on = \"company\")\n",
    "\n",
    "    taxi_trips_id.drop([\"payment_type\",\"company\"], axis = 1, inplace = True)\n",
    "    \n",
    "    return taxi_trips_id"
   ]
  },
  {
   "cell_type": "code",
   "execution_count": null,
   "metadata": {},
   "outputs": [],
   "source": [
    "taxi_trips_id = update_taxi_trips_with_master_data(taxi_trips=taxi_trips, payment_type_master=payment_type_master, company_master=company_master)\n",
    "\n",
    "taxi_trips_id.sample(5)"
   ]
  },
  {
   "cell_type": "markdown",
   "metadata": {},
   "source": [
    "### Weather transformation function"
   ]
  },
  {
   "cell_type": "code",
   "execution_count": 64,
   "metadata": {},
   "outputs": [],
   "source": [
    "def transform_weather_data(weather_data: json) -> pd.DataFrame:\n",
    "    \"\"\"Make transformations on the daily API response\n",
    "\n",
    "    Args:\n",
    "        weather_data (json): The daily weather data from open meteo API.\n",
    "\n",
    "    Returns:\n",
    "        pd.DataFrame: The dataframe representation of the weather data.\n",
    "    \"\"\"\n",
    "    weather_data_filtered = {\n",
    "        \"datetime\": weather_data[\"hourly\"][\"time\"],\n",
    "        \"tempretaure\": weather_data[\"hourly\"][\"temperature_2m\"],\n",
    "        \"wind_speed\": weather_data[\"hourly\"][\"wind_speed_10m\"],\n",
    "        \"rain\": weather_data[\"hourly\"][\"rain\"],\n",
    "        \"precipitation\": weather_data[\"hourly\"][\"precipitation\"],\n",
    "    } \n",
    "\n",
    "    weather_df = pd.DataFrame(weather_data_filtered)\n",
    "    weather_df[\"datetime\"] = pd.to_datetime(weather_df[\"datetime\"])\n",
    "\n",
    "    return weather_df\n"
   ]
  },
  {
   "cell_type": "code",
   "execution_count": 65,
   "metadata": {},
   "outputs": [],
   "source": [
    "#test\n",
    "\n",
    "current_datetime = datetime.now() - relativedelta(months=2)\n",
    "formatted_datetime = current_datetime.strftime(\"%Y-%m-%d\")\n",
    "url = \"https://archive-api.open-meteo.com/v1/era5\"\n",
    "params = {\n",
    "    \"latitude\": 41.85,\n",
    "    \"longitude\": -87.65,\n",
    "    \"start_date\": formatted_datetime,\n",
    "    \"end_date\": formatted_datetime,\n",
    "    \"hourly\": \"temperature_2m,wind_speed_10m,rain,precipitation\"\n",
    "}\n",
    "response = requests.get(url, params=params)\n",
    "weather_data = response.json()\n",
    "weather_data_df = transform_weather_data(weather_data)\n",
    "\n"
   ]
  },
  {
   "cell_type": "code",
   "execution_count": 66,
   "metadata": {},
   "outputs": [
    {
     "data": {
      "text/plain": [
       "<bound method NDFrame.head of               datetime  tempretaure  wind_speed  rain  precipitation\n",
       "0  2025-01-23 00:00:00         -5.2        15.6   0.0            0.0\n",
       "1  2025-01-23 01:00:00         -5.5        14.5   0.0            0.0\n",
       "2  2025-01-23 02:00:00         -5.4        15.7   0.0            0.0\n",
       "3  2025-01-23 03:00:00         -5.4        14.7   0.0            0.1\n",
       "4  2025-01-23 04:00:00         -5.5        13.7   0.0            0.1\n",
       "5  2025-01-23 05:00:00         -5.6        13.1   0.0            0.2\n",
       "6  2025-01-23 06:00:00         -5.7        13.2   0.0            0.2\n",
       "7  2025-01-23 07:00:00         -5.7        13.4   0.0            0.1\n",
       "8  2025-01-23 08:00:00         -5.8        13.0   0.0            0.1\n",
       "9  2025-01-23 09:00:00         -5.8        12.6   0.0            0.0\n",
       "10 2025-01-23 10:00:00         -5.9        13.0   0.0            0.0\n",
       "11 2025-01-23 11:00:00         -5.2        12.7   0.0            0.1\n",
       "12 2025-01-23 12:00:00         -5.0        16.2   0.0            0.1\n",
       "13 2025-01-23 13:00:00         -4.2        15.5   0.0            0.1\n",
       "14 2025-01-23 14:00:00         -6.2        19.3   0.0            0.0\n",
       "15 2025-01-23 15:00:00         -8.1        17.9   0.0            0.0\n",
       "16 2025-01-23 16:00:00         -9.0        16.7   0.0            0.0\n",
       "17 2025-01-23 17:00:00         -9.4        15.1   0.0            0.0\n",
       "18 2025-01-23 18:00:00         -9.4        14.7   0.0            0.0\n",
       "19 2025-01-23 19:00:00         -9.5        15.2   0.0            0.0\n",
       "20 2025-01-23 20:00:00         -9.6        15.8   0.0            0.0\n",
       "21 2025-01-23 21:00:00         -9.9        14.9   0.0            0.0\n",
       "22 2025-01-23 22:00:00        -10.5        13.5   0.0            0.0\n",
       "23 2025-01-23 23:00:00        -11.3        11.7   0.0            0.0>"
      ]
     },
     "execution_count": 66,
     "metadata": {},
     "output_type": "execute_result"
    }
   ],
   "source": [
    "weather_data_df.head"
   ]
  },
  {
   "cell_type": "code",
   "execution_count": null,
   "metadata": {},
   "outputs": [],
   "source": []
  }
 ],
 "metadata": {
  "kernelspec": {
   "display_name": "base",
   "language": "python",
   "name": "python3"
  },
  "language_info": {
   "codemirror_mode": {
    "name": "ipython",
    "version": 3
   },
   "file_extension": ".py",
   "mimetype": "text/x-python",
   "name": "python",
   "nbconvert_exporter": "python",
   "pygments_lexer": "ipython3",
   "version": "3.12.7"
  }
 },
 "nbformat": 4,
 "nbformat_minor": 2
}
